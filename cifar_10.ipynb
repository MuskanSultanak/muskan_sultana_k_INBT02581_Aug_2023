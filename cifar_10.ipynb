{
  "cells": [
    {
      "cell_type": "markdown",
      "metadata": {
        "id": "view-in-github",
        "colab_type": "text"
      },
      "source": [
        "<a href=\"https://colab.research.google.com/github/MuskanSultanak/muskan_sultana_k_INBT02581_Aug_2023/blob/main/cifar_10.ipynb\" target=\"_parent\"><img src=\"https://colab.research.google.com/assets/colab-badge.svg\" alt=\"Open In Colab\"/></a>"
      ]
    },
    {
      "cell_type": "markdown",
      "metadata": {
        "id": "g-kPTSm9Fsvu"
      },
      "source": [
        "# **CIFAR 10 DATASET**"
      ]
    },
    {
      "cell_type": "markdown",
      "metadata": {
        "id": "uJAJ4xdjFzgr"
      },
      "source": [
        "# **IMPORTING LIBRARIES**"
      ]
    },
    {
      "cell_type": "code",
      "execution_count": null,
      "metadata": {
        "id": "rziEwEjpFG4j"
      },
      "outputs": [],
      "source": [
        "from tensorflow.keras import Sequential,datasets\n",
        "from tensorflow.keras.layers import Dense,Flatten,Conv2D,MaxPooling2D\n",
        "import numpy as np\n",
        "from matplotlib import pyplot as plt"
      ]
    },
    {
      "cell_type": "code",
      "execution_count": null,
      "metadata": {
        "colab": {
          "base_uri": "https://localhost:8080/"
        },
        "id": "z_-5BiYVFG5r",
        "outputId": "ee55bd44-44da-434b-a601-7a828b6e6d8f"
      },
      "outputs": [
        {
          "name": "stdout",
          "output_type": "stream",
          "text": [
            "Downloading data from https://www.cs.toronto.edu/~kriz/cifar-10-python.tar.gz\n",
            "170498071/170498071 [==============================] - 2s 0us/step\n"
          ]
        }
      ],
      "source": [
        "(X_train,Y_train),(X_test,Y_test)=datasets.cifar10.load_data()"
      ]
    },
    {
      "cell_type": "code",
      "execution_count": null,
      "metadata": {
        "colab": {
          "base_uri": "https://localhost:8080/"
        },
        "id": "v6uZnxrdFG94",
        "outputId": "585551fd-5324-4df8-df2f-60fd48d45bb9"
      },
      "outputs": [
        {
          "data": {
            "text/plain": [
              "(50000, 32, 32, 3)"
            ]
          },
          "execution_count": 3,
          "metadata": {},
          "output_type": "execute_result"
        }
      ],
      "source": [
        "X_train.shape"
      ]
    },
    {
      "cell_type": "code",
      "execution_count": null,
      "metadata": {
        "colab": {
          "base_uri": "https://localhost:8080/"
        },
        "id": "6M1VNUcNFG_Z",
        "outputId": "7dbd64a9-e599-43ce-f227-076a6817c7a8"
      },
      "outputs": [
        {
          "data": {
            "text/plain": [
              "(10000, 32, 32, 3)"
            ]
          },
          "execution_count": 4,
          "metadata": {},
          "output_type": "execute_result"
        }
      ],
      "source": [
        "X_test.shape"
      ]
    },
    {
      "cell_type": "markdown",
      "metadata": {
        "id": "f0jGL2MbGUwL"
      },
      "source": [
        "# **RESHAPE**"
      ]
    },
    {
      "cell_type": "code",
      "execution_count": null,
      "metadata": {
        "colab": {
          "base_uri": "https://localhost:8080/"
        },
        "id": "k-AIxNSuFHDM",
        "outputId": "388beb0f-f09a-45e6-ad23-3b5d0ebb72d3"
      },
      "outputs": [
        {
          "data": {
            "text/plain": [
              "array([[6],\n",
              "       [9],\n",
              "       [9],\n",
              "       ...,\n",
              "       [9],\n",
              "       [1],\n",
              "       [1]], dtype=uint8)"
            ]
          },
          "execution_count": 5,
          "metadata": {},
          "output_type": "execute_result"
        }
      ],
      "source": [
        "#Reshape\n",
        "Y_test_train=Y_train.reshape(-1, )\n",
        "Y_train"
      ]
    },
    {
      "cell_type": "code",
      "execution_count": null,
      "metadata": {
        "id": "g3qunF0fFHE-"
      },
      "outputs": [],
      "source": [
        "Y_classes=[\"airplane\",\"automoblie\",\"bird\",\"cat\",\"deer\",\"dog\",\"frog\",\"horse\",\"ship\",\"truck\"]"
      ]
    },
    {
      "cell_type": "code",
      "execution_count": null,
      "metadata": {
        "colab": {
          "base_uri": "https://localhost:8080/"
        },
        "id": "XKW0ueihFHIU",
        "outputId": "e12a9db4-6079-4550-b8fe-2e1cec0eedad"
      },
      "outputs": [
        {
          "data": {
            "text/plain": [
              "10"
            ]
          },
          "execution_count": 7,
          "metadata": {},
          "output_type": "execute_result"
        }
      ],
      "source": [
        "len(Y_classes)"
      ]
    },
    {
      "cell_type": "markdown",
      "metadata": {
        "id": "d_sb9nNfGq1_"
      },
      "source": [
        "# **OBSERVING THE DATASET**"
      ]
    },
    {
      "cell_type": "code",
      "execution_count": null,
      "metadata": {
        "id": "Jr2PYFGeFHJ1"
      },
      "outputs": [],
      "source": [
        "#observe dataset\n",
        "def showImage(X,Y,Index):\n",
        "  plt.figure(figsize=(15,2))\n",
        "  plt.imshow(X[Index])\n",
        "  plt.xlabel(Y_classes[Y[Index]])"
      ]
    },
    {
      "cell_type": "markdown",
      "metadata": {
        "id": "pxMQS3U6Hv_n"
      },
      "source": [
        "# **NORMALIZATION**"
      ]
    },
    {
      "cell_type": "code",
      "execution_count": null,
      "metadata": {
        "colab": {
          "base_uri": "https://localhost:8080/"
        },
        "id": "e4p5PhNWFHUJ",
        "outputId": "3212df93-63e6-4a7e-886d-f3e71a07059a"
      },
      "outputs": [
        {
          "data": {
            "text/plain": [
              "array([[[ 59,  62,  63],\n",
              "        [ 43,  46,  45],\n",
              "        [ 50,  48,  43],\n",
              "        ...,\n",
              "        [158, 132, 108],\n",
              "        [152, 125, 102],\n",
              "        [148, 124, 103]],\n",
              "\n",
              "       [[ 16,  20,  20],\n",
              "        [  0,   0,   0],\n",
              "        [ 18,   8,   0],\n",
              "        ...,\n",
              "        [123,  88,  55],\n",
              "        [119,  83,  50],\n",
              "        [122,  87,  57]],\n",
              "\n",
              "       [[ 25,  24,  21],\n",
              "        [ 16,   7,   0],\n",
              "        [ 49,  27,   8],\n",
              "        ...,\n",
              "        [118,  84,  50],\n",
              "        [120,  84,  50],\n",
              "        [109,  73,  42]],\n",
              "\n",
              "       ...,\n",
              "\n",
              "       [[208, 170,  96],\n",
              "        [201, 153,  34],\n",
              "        [198, 161,  26],\n",
              "        ...,\n",
              "        [160, 133,  70],\n",
              "        [ 56,  31,   7],\n",
              "        [ 53,  34,  20]],\n",
              "\n",
              "       [[180, 139,  96],\n",
              "        [173, 123,  42],\n",
              "        [186, 144,  30],\n",
              "        ...,\n",
              "        [184, 148,  94],\n",
              "        [ 97,  62,  34],\n",
              "        [ 83,  53,  34]],\n",
              "\n",
              "       [[177, 144, 116],\n",
              "        [168, 129,  94],\n",
              "        [179, 142,  87],\n",
              "        ...,\n",
              "        [216, 184, 140],\n",
              "        [151, 118,  84],\n",
              "        [123,  92,  72]]], dtype=uint8)"
            ]
          },
          "execution_count": 15,
          "metadata": {},
          "output_type": "execute_result"
        }
      ],
      "source": [
        "#normalize\n",
        "X_train[0]"
      ]
    },
    {
      "cell_type": "code",
      "execution_count": null,
      "metadata": {
        "id": "uLrEH3v_FHX5"
      },
      "outputs": [],
      "source": [
        "X_train=X_train/255\n",
        "X_test=X_test/255"
      ]
    },
    {
      "cell_type": "code",
      "execution_count": null,
      "metadata": {
        "colab": {
          "base_uri": "https://localhost:8080/"
        },
        "id": "JRblKLC8FHZU",
        "outputId": "b78c6da3-5920-4d74-9074-71cf33358dee"
      },
      "outputs": [
        {
          "data": {
            "text/plain": [
              "array([[[0.23137255, 0.24313725, 0.24705882],\n",
              "        [0.16862745, 0.18039216, 0.17647059],\n",
              "        [0.19607843, 0.18823529, 0.16862745],\n",
              "        ...,\n",
              "        [0.61960784, 0.51764706, 0.42352941],\n",
              "        [0.59607843, 0.49019608, 0.4       ],\n",
              "        [0.58039216, 0.48627451, 0.40392157]],\n",
              "\n",
              "       [[0.0627451 , 0.07843137, 0.07843137],\n",
              "        [0.        , 0.        , 0.        ],\n",
              "        [0.07058824, 0.03137255, 0.        ],\n",
              "        ...,\n",
              "        [0.48235294, 0.34509804, 0.21568627],\n",
              "        [0.46666667, 0.3254902 , 0.19607843],\n",
              "        [0.47843137, 0.34117647, 0.22352941]],\n",
              "\n",
              "       [[0.09803922, 0.09411765, 0.08235294],\n",
              "        [0.0627451 , 0.02745098, 0.        ],\n",
              "        [0.19215686, 0.10588235, 0.03137255],\n",
              "        ...,\n",
              "        [0.4627451 , 0.32941176, 0.19607843],\n",
              "        [0.47058824, 0.32941176, 0.19607843],\n",
              "        [0.42745098, 0.28627451, 0.16470588]],\n",
              "\n",
              "       ...,\n",
              "\n",
              "       [[0.81568627, 0.66666667, 0.37647059],\n",
              "        [0.78823529, 0.6       , 0.13333333],\n",
              "        [0.77647059, 0.63137255, 0.10196078],\n",
              "        ...,\n",
              "        [0.62745098, 0.52156863, 0.2745098 ],\n",
              "        [0.21960784, 0.12156863, 0.02745098],\n",
              "        [0.20784314, 0.13333333, 0.07843137]],\n",
              "\n",
              "       [[0.70588235, 0.54509804, 0.37647059],\n",
              "        [0.67843137, 0.48235294, 0.16470588],\n",
              "        [0.72941176, 0.56470588, 0.11764706],\n",
              "        ...,\n",
              "        [0.72156863, 0.58039216, 0.36862745],\n",
              "        [0.38039216, 0.24313725, 0.13333333],\n",
              "        [0.3254902 , 0.20784314, 0.13333333]],\n",
              "\n",
              "       [[0.69411765, 0.56470588, 0.45490196],\n",
              "        [0.65882353, 0.50588235, 0.36862745],\n",
              "        [0.70196078, 0.55686275, 0.34117647],\n",
              "        ...,\n",
              "        [0.84705882, 0.72156863, 0.54901961],\n",
              "        [0.59215686, 0.4627451 , 0.32941176],\n",
              "        [0.48235294, 0.36078431, 0.28235294]]])"
            ]
          },
          "execution_count": 17,
          "metadata": {},
          "output_type": "execute_result"
        }
      ],
      "source": [
        "X_train[0]"
      ]
    },
    {
      "cell_type": "markdown",
      "metadata": {
        "id": "z8ClrBKnIDXy"
      },
      "source": [
        "# **BUILD MODEL**"
      ]
    },
    {
      "cell_type": "code",
      "execution_count": null,
      "metadata": {
        "id": "RpyE8dFFFHc5"
      },
      "outputs": [],
      "source": [
        "#build model\n",
        "model = Sequential()\n",
        "\n",
        "model.add(Conv2D(filters=32,kernel_size=(3,3),activation=\"relu\",input_shape=(32,32,3)))\n",
        "model.add(MaxPooling2D(pool_size=(2,2)))\n",
        "\n",
        "model.add(Conv2D(filters=64, kernel_size=(4,4),activation=\"relu\"))\n",
        "model.add(MaxPooling2D(pool_size=(2,2)))\n",
        "\n",
        "model.add(Flatten())\n",
        "model.add(Dense(units=34,activation=\"relu\"))\n",
        "model.add(Dense(units=10,activation=\"softmax\"))"
      ]
    },
    {
      "cell_type": "markdown",
      "metadata": {
        "id": "GYUQZMshIOtl"
      },
      "source": [
        "# **COMPILE MODEL**"
      ]
    },
    {
      "cell_type": "code",
      "execution_count": null,
      "metadata": {
        "id": "R-3aaqHLFHeh"
      },
      "outputs": [],
      "source": [
        "#compile model\n",
        "model.compile(\n",
        "    optimizer=\"adam\",\n",
        "    loss=\"sparse_categorical_crossentropy\",\n",
        "    metrics=[\"accuracy\"]\n",
        ")"
      ]
    },
    {
      "cell_type": "markdown",
      "metadata": {
        "id": "9yp_l-dyIZQb"
      },
      "source": [
        "# **TRAIN THE MODEL**"
      ]
    },
    {
      "cell_type": "code",
      "execution_count": null,
      "metadata": {
        "colab": {
          "base_uri": "https://localhost:8080/"
        },
        "id": "CBUIntE8FHiq",
        "outputId": "9acebba6-b827-4809-b841-11935526e3be"
      },
      "outputs": [
        {
          "name": "stdout",
          "output_type": "stream",
          "text": [
            "Epoch 1/5\n",
            "1563/1563 [==============================] - 111s 70ms/step - loss: 1.4782 - accuracy: 0.4707 - val_loss: 1.2555 - val_accuracy: 0.5589\n",
            "Epoch 2/5\n",
            "1563/1563 [==============================] - 107s 68ms/step - loss: 1.1045 - accuracy: 0.6139 - val_loss: 1.1430 - val_accuracy: 0.6078\n",
            "Epoch 3/5\n",
            "1563/1563 [==============================] - 110s 70ms/step - loss: 0.9804 - accuracy: 0.6579 - val_loss: 1.0009 - val_accuracy: 0.6539\n",
            "Epoch 4/5\n",
            "1563/1563 [==============================] - 95s 61ms/step - loss: 0.9076 - accuracy: 0.6854 - val_loss: 0.9690 - val_accuracy: 0.6646\n",
            "Epoch 5/5\n",
            "1563/1563 [==============================] - 89s 57ms/step - loss: 0.8491 - accuracy: 0.7053 - val_loss: 0.9134 - val_accuracy: 0.6812\n"
          ]
        },
        {
          "data": {
            "text/plain": [
              "<keras.callbacks.History at 0x7c7ae1bbe2f0>"
            ]
          },
          "execution_count": 20,
          "metadata": {},
          "output_type": "execute_result"
        }
      ],
      "source": [
        "#train model\n",
        "model.fit(X_train,Y_train,validation_data=(X_test,Y_test),epochs=5)"
      ]
    },
    {
      "cell_type": "markdown",
      "metadata": {
        "id": "_HBeG6btInAZ"
      },
      "source": [
        "# **MAKE PREDICITIONS**"
      ]
    },
    {
      "cell_type": "code",
      "execution_count": null,
      "metadata": {
        "colab": {
          "base_uri": "https://localhost:8080/"
        },
        "id": "xOf5rb0uIiTP",
        "outputId": "60fe5a29-e15a-4cde-ba5e-7fe45bc0ddf1"
      },
      "outputs": [
        {
          "name": "stdout",
          "output_type": "stream",
          "text": [
            "313/313 [==============================] - 5s 14ms/step\n"
          ]
        }
      ],
      "source": [
        "#make predicitions\n",
        "Y_predictions=model.predict(X_test)"
      ]
    },
    {
      "cell_type": "code",
      "execution_count": null,
      "metadata": {
        "colab": {
          "base_uri": "https://localhost:8080/"
        },
        "id": "J-d-fOsfIieP",
        "outputId": "cbc4acd2-6012-4057-d5e2-1637fe2a7119"
      },
      "outputs": [
        {
          "data": {
            "text/plain": [
              "array([4.4898363e-03, 9.1883564e-01, 6.1747211e-04, 3.3853963e-04,\n",
              "       2.1154177e-04, 1.0588731e-04, 8.6062175e-04, 7.9288540e-05,\n",
              "       4.4396110e-03, 7.0021421e-02], dtype=float32)"
            ]
          },
          "execution_count": 22,
          "metadata": {},
          "output_type": "execute_result"
        }
      ],
      "source": [
        "Y_predictions[9]"
      ]
    },
    {
      "cell_type": "code",
      "execution_count": null,
      "metadata": {
        "id": "1KygcC-7Iifv"
      },
      "outputs": [],
      "source": [
        "Y_predictions=[np.argmax(arr) for arr in Y_predictions]"
      ]
    },
    {
      "cell_type": "code",
      "execution_count": null,
      "metadata": {
        "colab": {
          "base_uri": "https://localhost:8080/"
        },
        "id": "F1wTR3CHIikB",
        "outputId": "ba36ff0f-244f-4a7e-8c7f-2e88c40c95b9"
      },
      "outputs": [
        {
          "data": {
            "text/plain": [
              "[3,\n",
              " 8,\n",
              " 8,\n",
              " 0,\n",
              " 4,\n",
              " 6,\n",
              " 1,\n",
              " 6,\n",
              " 3,\n",
              " 1,\n",
              " 0,\n",
              " 9,\n",
              " 5,\n",
              " 7,\n",
              " 9,\n",
              " 8,\n",
              " 5,\n",
              " 3,\n",
              " 8,\n",
              " 6,\n",
              " 7,\n",
              " 2,\n",
              " 2,\n",
              " 9,\n",
              " 4,\n",
              " 2,\n",
              " 4,\n",
              " 0,\n",
              " 9,\n",
              " 6,\n",
              " 6,\n",
              " 4,\n",
              " 4,\n",
              " 3,\n",
              " 9,\n",
              " 3,\n",
              " 7,\n",
              " 1,\n",
              " 9,\n",
              " 5,\n",
              " 0,\n",
              " 6,\n",
              " 5,\n",
              " 6,\n",
              " 0,\n",
              " 9,\n",
              " 3,\n",
              " 9,\n",
              " 7,\n",
              " 6,\n",
              " 9,\n",
              " 8,\n",
              " 6,\n",
              " 3,\n",
              " 8,\n",
              " 8,\n",
              " 7,\n",
              " 8,\n",
              " 3,\n",
              " 2,\n",
              " 7,\n",
              " 5,\n",
              " 6,\n",
              " 9,\n",
              " 6,\n",
              " 6,\n",
              " 1,\n",
              " 0,\n",
              " 5,\n",
              " 7,\n",
              " 2,\n",
              " 3,\n",
              " 8,\n",
              " 8,\n",
              " 9,\n",
              " 2,\n",
              " 7,\n",
              " 3,\n",
              " 3,\n",
              " 8,\n",
              " 8,\n",
              " 1,\n",
              " 1,\n",
              " 7,\n",
              " 2,\n",
              " 7,\n",
              " 2,\n",
              " 8,\n",
              " 9,\n",
              " 9,\n",
              " 0,\n",
              " 6,\n",
              " 8,\n",
              " 6,\n",
              " 4,\n",
              " 6,\n",
              " 6,\n",
              " 0,\n",
              " 0,\n",
              " 7,\n",
              " 4,\n",
              " 5,\n",
              " 6,\n",
              " 6,\n",
              " 1,\n",
              " 1,\n",
              " 8,\n",
              " 6,\n",
              " 8,\n",
              " 5,\n",
              " 4,\n",
              " 0,\n",
              " 2,\n",
              " 2,\n",
              " 9,\n",
              " 7,\n",
              " 0,\n",
              " 4,\n",
              " 6,\n",
              " 5,\n",
              " 8,\n",
              " 7,\n",
              " 1,\n",
              " 2,\n",
              " 8,\n",
              " 9,\n",
              " 8,\n",
              " 5,\n",
              " 3,\n",
              " 2,\n",
              " 4,\n",
              " 1,\n",
              " 8,\n",
              " 9,\n",
              " 1,\n",
              " 2,\n",
              " 9,\n",
              " 7,\n",
              " 2,\n",
              " 8,\n",
              " 3,\n",
              " 5,\n",
              " 6,\n",
              " 5,\n",
              " 8,\n",
              " 7,\n",
              " 6,\n",
              " 5,\n",
              " 5,\n",
              " 5,\n",
              " 1,\n",
              " 9,\n",
              " 6,\n",
              " 0,\n",
              " 0,\n",
              " 5,\n",
              " 2,\n",
              " 9,\n",
              " 3,\n",
              " 4,\n",
              " 3,\n",
              " 1,\n",
              " 5,\n",
              " 6,\n",
              " 0,\n",
              " 7,\n",
              " 8,\n",
              " 6,\n",
              " 9,\n",
              " 0,\n",
              " 9,\n",
              " 9,\n",
              " 9,\n",
              " 8,\n",
              " 9,\n",
              " 9,\n",
              " 8,\n",
              " 7,\n",
              " 5,\n",
              " 9,\n",
              " 0,\n",
              " 5,\n",
              " 6,\n",
              " 2,\n",
              " 6,\n",
              " 8,\n",
              " 6,\n",
              " 3,\n",
              " 3,\n",
              " 8,\n",
              " 5,\n",
              " 8,\n",
              " 7,\n",
              " 1,\n",
              " 7,\n",
              " 3,\n",
              " 8,\n",
              " 8,\n",
              " 7,\n",
              " 8,\n",
              " 3,\n",
              " 9,\n",
              " 8,\n",
              " 7,\n",
              " 1,\n",
              " 3,\n",
              " 8,\n",
              " 5,\n",
              " 7,\n",
              " 9,\n",
              " 5,\n",
              " 1,\n",
              " 5,\n",
              " 9,\n",
              " 8,\n",
              " 0,\n",
              " 7,\n",
              " 9,\n",
              " 8,\n",
              " 4,\n",
              " 7,\n",
              " 4,\n",
              " 9,\n",
              " 5,\n",
              " 3,\n",
              " 9,\n",
              " 9,\n",
              " 2,\n",
              " 3,\n",
              " 2,\n",
              " 3,\n",
              " 1,\n",
              " 3,\n",
              " 8,\n",
              " 8,\n",
              " 0,\n",
              " 4,\n",
              " 7,\n",
              " 3,\n",
              " 5,\n",
              " 1,\n",
              " 1,\n",
              " 8,\n",
              " 9,\n",
              " 0,\n",
              " 6,\n",
              " 1,\n",
              " 8,\n",
              " 2,\n",
              " 0,\n",
              " 7,\n",
              " 5,\n",
              " 9,\n",
              " 9,\n",
              " 2,\n",
              " 0,\n",
              " 3,\n",
              " 0,\n",
              " 8,\n",
              " 1,\n",
              " 8,\n",
              " 9,\n",
              " 8,\n",
              " 3,\n",
              " 0,\n",
              " 8,\n",
              " 8,\n",
              " 4,\n",
              " 7,\n",
              " 0,\n",
              " 2,\n",
              " 3,\n",
              " 6,\n",
              " 3,\n",
              " 8,\n",
              " 2,\n",
              " 0,\n",
              " 2,\n",
              " 7,\n",
              " 5,\n",
              " 9,\n",
              " 1,\n",
              " 6,\n",
              " 1,\n",
              " 9,\n",
              " 9,\n",
              " 1,\n",
              " 8,\n",
              " 7,\n",
              " 9,\n",
              " 1,\n",
              " 2,\n",
              " 6,\n",
              " 9,\n",
              " 3,\n",
              " 2,\n",
              " 6,\n",
              " 0,\n",
              " 0,\n",
              " 6,\n",
              " 6,\n",
              " 4,\n",
              " 3,\n",
              " 2,\n",
              " 2,\n",
              " 1,\n",
              " 8,\n",
              " 2,\n",
              " 1,\n",
              " 2,\n",
              " 8,\n",
              " 6,\n",
              " 0,\n",
              " 0,\n",
              " 3,\n",
              " 3,\n",
              " 7,\n",
              " 7,\n",
              " 5,\n",
              " 5,\n",
              " 3,\n",
              " 3,\n",
              " 2,\n",
              " 2,\n",
              " 5,\n",
              " 1,\n",
              " 7,\n",
              " 5,\n",
              " 4,\n",
              " 6,\n",
              " 1,\n",
              " 9,\n",
              " 4,\n",
              " 6,\n",
              " 6,\n",
              " 9,\n",
              " 3,\n",
              " 8,\n",
              " 0,\n",
              " 7,\n",
              " 4,\n",
              " 6,\n",
              " 2,\n",
              " 7,\n",
              " 0,\n",
              " 5,\n",
              " 7,\n",
              " 6,\n",
              " 8,\n",
              " 9,\n",
              " 9,\n",
              " 9,\n",
              " 8,\n",
              " 2,\n",
              " 6,\n",
              " 7,\n",
              " 2,\n",
              " 2,\n",
              " 1,\n",
              " 0,\n",
              " 9,\n",
              " 5,\n",
              " 8,\n",
              " 1,\n",
              " 9,\n",
              " 4,\n",
              " 1,\n",
              " 8,\n",
              " 8,\n",
              " 1,\n",
              " 2,\n",
              " 7,\n",
              " 9,\n",
              " 4,\n",
              " 2,\n",
              " 7,\n",
              " 4,\n",
              " 7,\n",
              " 8,\n",
              " 6,\n",
              " 6,\n",
              " 9,\n",
              " 0,\n",
              " 1,\n",
              " 5,\n",
              " 0,\n",
              " 7,\n",
              " 4,\n",
              " 5,\n",
              " 5,\n",
              " 1,\n",
              " 2,\n",
              " 6,\n",
              " 2,\n",
              " 9,\n",
              " 6,\n",
              " 2,\n",
              " 3,\n",
              " 9,\n",
              " 9,\n",
              " 9,\n",
              " 8,\n",
              " 7,\n",
              " 8,\n",
              " 8,\n",
              " 6,\n",
              " 0,\n",
              " 1,\n",
              " 8,\n",
              " 2,\n",
              " 7,\n",
              " 8,\n",
              " 5,\n",
              " 6,\n",
              " 1,\n",
              " 9,\n",
              " 3,\n",
              " 7,\n",
              " 7,\n",
              " 7,\n",
              " 4,\n",
              " 3,\n",
              " 8,\n",
              " 0,\n",
              " 2,\n",
              " 9,\n",
              " 5,\n",
              " 3,\n",
              " 6,\n",
              " 6,\n",
              " 2,\n",
              " 5,\n",
              " 3,\n",
              " 7,\n",
              " 9,\n",
              " 7,\n",
              " 3,\n",
              " 2,\n",
              " 3,\n",
              " 9,\n",
              " 1,\n",
              " 2,\n",
              " 9,\n",
              " 1,\n",
              " 3,\n",
              " 4,\n",
              " 4,\n",
              " 0,\n",
              " 2,\n",
              " 2,\n",
              " 6,\n",
              " 9,\n",
              " 7,\n",
              " 4,\n",
              " 9,\n",
              " 4,\n",
              " 4,\n",
              " 7,\n",
              " 4,\n",
              " 8,\n",
              " 2,\n",
              " 6,\n",
              " 1,\n",
              " 4,\n",
              " 3,\n",
              " 4,\n",
              " 7,\n",
              " 3,\n",
              " 7,\n",
              " 8,\n",
              " 3,\n",
              " 7,\n",
              " 8,\n",
              " 0,\n",
              " 4,\n",
              " 7,\n",
              " 6,\n",
              " 8,\n",
              " 2,\n",
              " 6,\n",
              " 9,\n",
              " 6,\n",
              " 8,\n",
              " 7,\n",
              " 5,\n",
              " 9,\n",
              " 9,\n",
              " 9,\n",
              " 4,\n",
              " 0,\n",
              " 1,\n",
              " 0,\n",
              " 8,\n",
              " 1,\n",
              " 1,\n",
              " 8,\n",
              " 0,\n",
              " 2,\n",
              " 4,\n",
              " 0,\n",
              " 7,\n",
              " 6,\n",
              " 2,\n",
              " 4,\n",
              " 9,\n",
              " 4,\n",
              " 7,\n",
              " 9,\n",
              " 9,\n",
              " 4,\n",
              " 5,\n",
              " 6,\n",
              " 6,\n",
              " 1,\n",
              " 5,\n",
              " 5,\n",
              " 8,\n",
              " 9,\n",
              " 3,\n",
              " 8,\n",
              " 7,\n",
              " 7,\n",
              " 0,\n",
              " 7,\n",
              " 0,\n",
              " 3,\n",
              " 8,\n",
              " 0,\n",
              " 4,\n",
              " 6,\n",
              " 9,\n",
              " 3,\n",
              " 1,\n",
              " 3,\n",
              " 6,\n",
              " 6,\n",
              " 6,\n",
              " 2,\n",
              " 8,\n",
              " 9,\n",
              " 1,\n",
              " 4,\n",
              " 6,\n",
              " 7,\n",
              " 5,\n",
              " 9,\n",
              " 1,\n",
              " 6,\n",
              " 2,\n",
              " 3,\n",
              " 5,\n",
              " 5,\n",
              " 8,\n",
              " 3,\n",
              " 9,\n",
              " 2,\n",
              " 6,\n",
              " 3,\n",
              " 3,\n",
              " 2,\n",
              " 0,\n",
              " 7,\n",
              " 6,\n",
              " 4,\n",
              " 2,\n",
              " 5,\n",
              " 9,\n",
              " 3,\n",
              " 9,\n",
              " 4,\n",
              " 2,\n",
              " 7,\n",
              " 1,\n",
              " 8,\n",
              " 3,\n",
              " 6,\n",
              " 8,\n",
              " 8,\n",
              " 7,\n",
              " 2,\n",
              " 4,\n",
              " 0,\n",
              " 8,\n",
              " 2,\n",
              " 0,\n",
              " 9,\n",
              " 3,\n",
              " 4,\n",
              " 8,\n",
              " 9,\n",
              " 6,\n",
              " 1,\n",
              " 2,\n",
              " 6,\n",
              " 1,\n",
              " 4,\n",
              " 7,\n",
              " 5,\n",
              " 5,\n",
              " 3,\n",
              " 8,\n",
              " 5,\n",
              " 1,\n",
              " 2,\n",
              " 1,\n",
              " 6,\n",
              " 8,\n",
              " 3,\n",
              " 3,\n",
              " 9,\n",
              " 6,\n",
              " 9,\n",
              " 8,\n",
              " 8,\n",
              " 5,\n",
              " 8,\n",
              " 6,\n",
              " 3,\n",
              " 7,\n",
              " 1,\n",
              " 7,\n",
              " 7,\n",
              " 1,\n",
              " 2,\n",
              " 7,\n",
              " 9,\n",
              " 1,\n",
              " 4,\n",
              " 7,\n",
              " 8,\n",
              " 8,\n",
              " 2,\n",
              " 6,\n",
              " 8,\n",
              " 4,\n",
              " 6,\n",
              " 8,\n",
              " 3,\n",
              " 8,\n",
              " 5,\n",
              " 5,\n",
              " 3,\n",
              " 7,\n",
              " 7,\n",
              " 9,\n",
              " 9,\n",
              " 4,\n",
              " 2,\n",
              " 4,\n",
              " 5,\n",
              " 3,\n",
              " 9,\n",
              " 3,\n",
              " 1,\n",
              " 9,\n",
              " 2,\n",
              " 1,\n",
              " 5,\n",
              " 4,\n",
              " 1,\n",
              " 9,\n",
              " 7,\n",
              " 7,\n",
              " 6,\n",
              " 3,\n",
              " 0,\n",
              " 9,\n",
              " 0,\n",
              " 1,\n",
              " 5,\n",
              " 6,\n",
              " 7,\n",
              " 7,\n",
              " 3,\n",
              " 4,\n",
              " 1,\n",
              " 4,\n",
              " 9,\n",
              " 3,\n",
              " 5,\n",
              " 1,\n",
              " 6,\n",
              " 2,\n",
              " 8,\n",
              " 9,\n",
              " 4,\n",
              " 9,\n",
              " 5,\n",
              " 6,\n",
              " 4,\n",
              " 4,\n",
              " 2,\n",
              " 2,\n",
              " 7,\n",
              " 8,\n",
              " 3,\n",
              " 8,\n",
              " 2,\n",
              " 7,\n",
              " 5,\n",
              " 7,\n",
              " 2,\n",
              " 6,\n",
              " 8,\n",
              " 7,\n",
              " 2,\n",
              " 2,\n",
              " 3,\n",
              " 8,\n",
              " 8,\n",
              " 5,\n",
              " 0,\n",
              " 8,\n",
              " 7,\n",
              " 4,\n",
              " 3,\n",
              " 3,\n",
              " 8,\n",
              " 4,\n",
              " 9,\n",
              " 7,\n",
              " 8,\n",
              " 8,\n",
              " 1,\n",
              " 8,\n",
              " 8,\n",
              " 1,\n",
              " 4,\n",
              " 6,\n",
              " 5,\n",
              " 7,\n",
              " 2,\n",
              " 7,\n",
              " 9,\n",
              " 1,\n",
              " 2,\n",
              " 1,\n",
              " 2,\n",
              " 1,\n",
              " 5,\n",
              " 5,\n",
              " 7,\n",
              " 9,\n",
              " 7,\n",
              " 8,\n",
              " 7,\n",
              " 6,\n",
              " 6,\n",
              " 2,\n",
              " 3,\n",
              " 9,\n",
              " 8,\n",
              " 9,\n",
              " 1,\n",
              " 2,\n",
              " 2,\n",
              " 6,\n",
              " 8,\n",
              " 2,\n",
              " 1,\n",
              " 7,\n",
              " 5,\n",
              " 6,\n",
              " 0,\n",
              " 1,\n",
              " 2,\n",
              " 3,\n",
              " 9,\n",
              " 5,\n",
              " 4,\n",
              " 9,\n",
              " 9,\n",
              " 6,\n",
              " 3,\n",
              " 0,\n",
              " 4,\n",
              " 2,\n",
              " 6,\n",
              " 0,\n",
              " 6,\n",
              " 9,\n",
              " 1,\n",
              " 7,\n",
              " 6,\n",
              " 7,\n",
              " 0,\n",
              " 3,\n",
              " 9,\n",
              " 6,\n",
              " 8,\n",
              " 0,\n",
              " 0,\n",
              " 9,\n",
              " 3,\n",
              " 7,\n",
              " 7,\n",
              " 4,\n",
              " 4,\n",
              " 7,\n",
              " 4,\n",
              " 7,\n",
              " 1,\n",
              " 2,\n",
              " 7,\n",
              " 7,\n",
              " 4,\n",
              " 8,\n",
              " 4,\n",
              " 0,\n",
              " 4,\n",
              " 5,\n",
              " 2,\n",
              " 7,\n",
              " 2,\n",
              " 1,\n",
              " 8,\n",
              " 9,\n",
              " 3,\n",
              " 8,\n",
              " 3,\n",
              " 8,\n",
              " 2,\n",
              " 0,\n",
              " 8,\n",
              " 7,\n",
              " 3,\n",
              " 7,\n",
              " 6,\n",
              " 5,\n",
              " 3,\n",
              " 0,\n",
              " 6,\n",
              " 2,\n",
              " 5,\n",
              " 4,\n",
              " 4,\n",
              " 9,\n",
              " 5,\n",
              " 9,\n",
              " 2,\n",
              " 7,\n",
              " 8,\n",
              " 7,\n",
              " 2,\n",
              " 2,\n",
              " 3,\n",
              " 2,\n",
              " 0,\n",
              " 2,\n",
              " 4,\n",
              " 3,\n",
              " 9,\n",
              " 8,\n",
              " 1,\n",
              " 0,\n",
              " 9,\n",
              " 7,\n",
              " 8,\n",
              " 7,\n",
              " 8,\n",
              " 4,\n",
              " 6,\n",
              " 6,\n",
              " 3,\n",
              " 0,\n",
              " 1,\n",
              " 3,\n",
              " 7,\n",
              " 0,\n",
              " 1,\n",
              " 3,\n",
              " 1,\n",
              " 3,\n",
              " 8,\n",
              " 3,\n",
              " 8,\n",
              " 4,\n",
              " 2,\n",
              " 4,\n",
              " 7,\n",
              " 8,\n",
              " 4,\n",
              " 0,\n",
              " 0,\n",
              " 9,\n",
              " 0,\n",
              " 9,\n",
              " 1,\n",
              " 8,\n",
              " 6,\n",
              " 4,\n",
              " 6,\n",
              " 7,\n",
              " 3,\n",
              " 1,\n",
              " 1,\n",
              " 3,\n",
              " 7,\n",
              " 7,\n",
              " 5,\n",
              " 5,\n",
              " 6,\n",
              " 6,\n",
              " 3,\n",
              " 8,\n",
              " 0,\n",
              " 1,\n",
              " 6,\n",
              " 8,\n",
              " 8,\n",
              " 7,\n",
              " 3,\n",
              " 3,\n",
              " 4,\n",
              " 0,\n",
              " 1,\n",
              " 4,\n",
              " 8,\n",
              " 8,\n",
              " 0,\n",
              " 6,\n",
              " 9,\n",
              " 9,\n",
              " 9,\n",
              " 5,\n",
              " 3,\n",
              " 8,\n",
              " 5,\n",
              " 0,\n",
              " 8,\n",
              " 4,\n",
              " 2,\n",
              " 3,\n",
              " 3,\n",
              " 7,\n",
              " 3,\n",
              " 2,\n",
              " 5,\n",
              " 1,\n",
              " 8,\n",
              " 1,\n",
              " 1,\n",
              " 7,\n",
              " 4,\n",
              " 0,\n",
              " 3,\n",
              " 0,\n",
              " 1,\n",
              " 3,\n",
              " 8,\n",
              " 3,\n",
              " 9,\n",
              " 6,\n",
              " 8,\n",
              " 6,\n",
              " 7,\n",
              " 0,\n",
              " 6,\n",
              " 7,\n",
              " 8,\n",
              " 9,\n",
              " 1,\n",
              " 1,\n",
              " 6,\n",
              " 5,\n",
              " 3,\n",
              " 3,\n",
              " 9,\n",
              " 1,\n",
              " 9,\n",
              " 9,\n",
              " 4,\n",
              " 5,\n",
              " 1,\n",
              " 7,\n",
              " 0,\n",
              " 6,\n",
              " 8,\n",
              " 8,\n",
              " 9,\n",
              " 6,\n",
              " 1,\n",
              " 5,\n",
              " 4,\n",
              " 7,\n",
              " 8,\n",
              " 5,\n",
              " 1,\n",
              " 2,\n",
              " 0,\n",
              " 1,\n",
              " 3,\n",
              " 8,\n",
              " 7,\n",
              " 5,\n",
              " 5,\n",
              " 8,\n",
              " 1,\n",
              " 3,\n",
              " 8,\n",
              " ...]"
            ]
          },
          "execution_count": 24,
          "metadata": {},
          "output_type": "execute_result"
        }
      ],
      "source": [
        "Y_predictions"
      ]
    },
    {
      "cell_type": "code",
      "execution_count": null,
      "metadata": {
        "id": "GMKRB7IkIil3"
      },
      "outputs": [],
      "source": [
        "Y_test=Y_test.reshape(-1, )"
      ]
    },
    {
      "cell_type": "code",
      "execution_count": null,
      "metadata": {
        "colab": {
          "base_uri": "https://localhost:8080/"
        },
        "id": "Ga5-X4koI6wx",
        "outputId": "39a937c9-768e-4b76-ea83-c6c39ea8b969"
      },
      "outputs": [
        {
          "data": {
            "text/plain": [
              "1"
            ]
          },
          "execution_count": 26,
          "metadata": {},
          "output_type": "execute_result"
        }
      ],
      "source": [
        "Y_predictions[6]"
      ]
    },
    {
      "cell_type": "code",
      "execution_count": null,
      "metadata": {
        "colab": {
          "base_uri": "https://localhost:8080/",
          "height": 237
        },
        "id": "-RE4mp8FI66Z",
        "outputId": "4af5fbbe-4a39-4727-dd48-f8e5a8985a09"
      },
      "outputs": [
        {
          "data": {
            "image/png": "[encoded data removed]",
            "text/plain": [
              "<Figure size 1500x200 with 1 Axes>"
            ]
          },
          "metadata": {},
          "output_type": "display_data"
        }
      ],
      "source": [
        "showImage(X_test,Y_test,6)"
      ]
    },
    {
      "cell_type": "markdown",
      "metadata": {
        "id": "tnOglSyzJF5G"
      },
      "source": [
        "# **EVALUATION MODEL**"
      ]
    },
    {
      "cell_type": "code",
      "execution_count": null,
      "metadata": {
        "id": "jVCl8gDRI7Ao"
      },
      "outputs": [],
      "source": [
        "from sklearn.metrics import classification_report"
      ]
    },
    {
      "cell_type": "code",
      "execution_count": null,
      "metadata": {
        "colab": {
          "base_uri": "https://localhost:8080/",
          "height": 211
        },
        "id": "9eoW2jPxXPqU",
        "outputId": "aa733c8a-b5b7-4e46-a96c-b3cf2b5268fb"
      },
      "outputs": [
        {
          "ename": "NameError",
          "evalue": "ignored",
          "output_type": "error",
          "traceback": [
            "\u001b[0;31m---------------------------------------------------------------------------\u001b[0m",
            "\u001b[0;31mNameError\u001b[0m                                 Traceback (most recent call last)",
            "\u001b[0;32m<ipython-input-7-69ea06a40bf6>\u001b[0m in \u001b[0;36m<cell line: 1>\u001b[0;34m()\u001b[0m\n\u001b[0;32m----> 1\u001b[0;31m \u001b[0mscore\u001b[0m \u001b[0;34m=\u001b[0m \u001b[0mmodel\u001b[0m\u001b[0;34m.\u001b[0m\u001b[0mevaluate\u001b[0m\u001b[0;34m(\u001b[0m\u001b[0mX_test\u001b[0m\u001b[0;34m,\u001b[0m \u001b[0mY_test\u001b[0m\u001b[0;34m,\u001b[0m \u001b[0mverbose\u001b[0m\u001b[0;34m=\u001b[0m\u001b[0;36m0\u001b[0m\u001b[0;34m)\u001b[0m\u001b[0;34m\u001b[0m\u001b[0;34m\u001b[0m\u001b[0m\n\u001b[0m\u001b[1;32m      2\u001b[0m \u001b[0mprint\u001b[0m\u001b[0;34m(\u001b[0m\u001b[0;34m\"Loss: \"\u001b[0m \u001b[0;34m+\u001b[0m \u001b[0mstr\u001b[0m\u001b[0;34m(\u001b[0m\u001b[0mscore\u001b[0m\u001b[0;34m[\u001b[0m\u001b[0;36m0\u001b[0m\u001b[0;34m]\u001b[0m\u001b[0;34m)\u001b[0m\u001b[0;34m)\u001b[0m\u001b[0;34m\u001b[0m\u001b[0;34m\u001b[0m\u001b[0m\n\u001b[1;32m      3\u001b[0m \u001b[0mprint\u001b[0m\u001b[0;34m(\u001b[0m\u001b[0;34m\"Accuracy: \"\u001b[0m \u001b[0;34m+\u001b[0m \u001b[0mstr\u001b[0m\u001b[0;34m(\u001b[0m\u001b[0mscore\u001b[0m\u001b[0;34m[\u001b[0m\u001b[0;36m1\u001b[0m\u001b[0;34m]\u001b[0m\u001b[0;34m*\u001b[0m\u001b[0;36m100\u001b[0m\u001b[0;34m)\u001b[0m \u001b[0;34m+\u001b[0m \u001b[0;34m\"%\"\u001b[0m\u001b[0;34m)\u001b[0m\u001b[0;34m\u001b[0m\u001b[0;34m\u001b[0m\u001b[0m\n",
            "\u001b[0;31mNameError\u001b[0m: name 'model' is not defined"
          ]
        }
      ],
      "source": [
        "score = model.evaluate(X_test, Y_test, verbose=0)\n",
        "print(\"Loss: \" + str(score[0]))\n",
        "print(\"Accuracy: \" + str(score[1]*100) + \"%\")"
      ]
    },
    {
      "cell_type": "code",
      "execution_count": null,
      "metadata": {
        "colab": {
          "base_uri": "https://localhost:8080/"
        },
        "id": "Spz6tWOuJQWm",
        "outputId": "eacef747-aea6-4d5b-8c5a-71b5725b6327"
      },
      "outputs": [
        {
          "name": "stdout",
          "output_type": "stream",
          "text": [
            "              precision    recall  f1-score   support\n",
            "\n",
            "           0       0.80      0.61      0.69      1000\n",
            "           1       0.81      0.81      0.81      1000\n",
            "           2       0.60      0.58      0.59      1000\n",
            "           3       0.50      0.49      0.49      1000\n",
            "           4       0.63      0.57      0.60      1000\n",
            "           5       0.60      0.58      0.59      1000\n",
            "           6       0.78      0.71      0.75      1000\n",
            "           7       0.68      0.80      0.73      1000\n",
            "           8       0.70      0.85      0.77      1000\n",
            "           9       0.73      0.81      0.77      1000\n",
            "\n",
            "    accuracy                           0.68     10000\n",
            "   macro avg       0.68      0.68      0.68     10000\n",
            "weighted avg       0.68      0.68      0.68     10000\n",
            "\n"
          ]
        }
      ],
      "source": [
        "print(classification_report(Y_test,Y_predictions))"
      ]
    },
    {
      "cell_type": "code",
      "execution_count": null,
      "metadata": {
        "colab": {
          "base_uri": "https://localhost:8080/"
        },
        "id": "QGODjWitJQYh",
        "outputId": "c3eaa6b0-36e8-4006-b92f-93ea208abb44"
      },
      "outputs": [
        {
          "name": "stdout",
          "output_type": "stream",
          "text": [
            "Collecting confusion_matrix\n",
            "  Downloading confusion_matrix-0.1.tar.gz (1.9 kB)\n",
            "  Preparing metadata (setup.py) ... \u001b[?25l\u001b[?25hdone\n",
            "Collecting nose (from confusion_matrix)\n",
            "  Downloading nose-1.3.7-py3-none-any.whl (154 kB)\n",
            "\u001b[2K     \u001b[90m━━━━━━━━━━━━━━━━━━━━━━━━━━━━━━━━━━━━━━━\u001b[0m \u001b[32m154.7/154.7 kB\u001b[0m \u001b[31m2.8 MB/s\u001b[0m eta \u001b[36m0:00:00\u001b[0m\n",
            "\u001b[?25hBuilding wheels for collected packages: confusion_matrix\n",
            "  Building wheel for confusion_matrix (setup.py) ... \u001b[?25l\u001b[?25hdone\n",
            "  Created wheel for confusion_matrix: filename=confusion_matrix-0.1-py3-none-any.whl size=2399 sha256=756403b9fef2d36fe7ad608bf4a2ab531f941fd8a085b2e96a696a66b7b57dba\n",
            "  Stored in directory: /root/.cache/pip/wheels/2a/86/a7/df011be982e86cf5084b4e47b183f46b0773f928abb5c12adb\n",
            "Successfully built confusion_matrix\n",
            "Installing collected packages: nose, confusion_matrix\n",
            "Successfully installed confusion_matrix-0.1 nose-1.3.7\n",
            "None\n"
          ]
        }
      ],
      "source": [
        "!pip install confusion_matrix\n",
        "import confusion_matrix\n",
        "from sklearn.metrics import confusion_matrix"
      ]
    },
    {
      "cell_type": "code",
      "execution_count": null,
      "metadata": {
        "id": "apqy2vSqJQcI"
      },
      "outputs": [],
      "source": [
        "cm=confusion_matrix(Y_test,Y_predictions)"
      ]
    },
    {
      "cell_type": "code",
      "execution_count": null,
      "metadata": {
        "colab": {
          "base_uri": "https://localhost:8080/"
        },
        "id": "TMP3rQjBJQey",
        "outputId": "55e1c302-b586-414a-8eed-c1b66b69eb7f"
      },
      "outputs": [
        {
          "data": {
            "text/plain": [
              "array([[612,  27,  56,  23,  17,   8,   5,  20, 158,  74],\n",
              "       [ 12, 812,   5,  13,   2,   3,   9,   2,  39, 103],\n",
              "       [ 47,   8, 579,  61,  85,  72,  54,  56,  24,  14],\n",
              "       [ 14,  15,  72, 487,  74, 172,  52,  58,  30,  26],\n",
              "       [ 15,   6,  95,  64, 568,  35,  52, 135,  23,   7],\n",
              "       [  8,   3,  68, 172,  44, 579,  16,  77,  20,  13],\n",
              "       [  5,  12,  44,  97,  56,  29, 715,  15,  14,  13],\n",
              "       [ 10,   2,  27,  32,  51,  54,   4, 800,   7,  13],\n",
              "       [ 33,  35,  13,  16,   4,   7,   2,   5, 847,  38],\n",
              "       [ 10,  83,   6,  16,   5,   5,   6,  14,  42, 813]])"
            ]
          },
          "execution_count": 33,
          "metadata": {},
          "output_type": "execute_result"
        }
      ],
      "source": [
        "cm"
      ]
    },
    {
      "cell_type": "code",
      "execution_count": null,
      "metadata": {
        "id": "ziUg7H7sJQgo"
      },
      "outputs": [],
      "source": [
        "import seaborn as sns"
      ]
    },
    {
      "cell_type": "code",
      "execution_count": null,
      "metadata": {
        "colab": {
          "base_uri": "https://localhost:8080/",
          "height": 641
        },
        "id": "O4235BaOJQiv",
        "outputId": "a7368863-9fcd-48ff-b0c8-4676dec2dd00"
      },
      "outputs": [
        {
          "data": {
            "image/png": "[encoded data removed]",
            "text/plain": [
              "<Figure size 1400x700 with 2 Axes>"
            ]
          },
          "metadata": {},
          "output_type": "display_data"
        }
      ],
      "source": [
        "plt.figure(figsize=(14,7))\n",
        "sns.heatmap(cm,annot=(True))\n",
        "plt.ylabel(\"Truth\")\n",
        "plt.xlabel(\"Predictions\")\n",
        "plt.title(\"Confusion Matrix\")\n",
        "plt.show()"
      ]
    },
    {
      "cell_type": "code",
      "execution_count": null,
      "metadata": {
        "id": "4PT_EFXtBROQ"
      },
      "outputs": [],
      "source": [
        "from keras.datasets import cifar10\n",
        "from keras.applications import VGG19\n",
        "from keras.utils import to_categorical\n",
        "from keras.models import Sequential\n",
        "from keras.layers import Conv2D, MaxPooling2D, Flatten, Dense"
      ]
    },
    {
      "cell_type": "code",
      "execution_count": null,
      "metadata": {
        "colab": {
          "base_uri": "https://localhost:8080/"
        },
        "id": "Fugav5DnBP3t",
        "outputId": "ce9ffe6c-71a6-4df2-aef8-0168038203df"
      },
      "outputs": [
        {
          "name": "stdout",
          "output_type": "stream",
          "text": [
            "Downloading data from https://www.cs.toronto.edu/~kriz/cifar-10-python.tar.gz\n",
            "170498071/170498071 [==============================] - 6s 0us/step\n"
          ]
        }
      ],
      "source": [
        "# Load and preprocess CIFAR-10 dataset\n",
        "(X_train, y_train), (X_test, y_test) = cifar10.load_data()\n",
        "X_train = X_train.astype('float32') / 255.0\n",
        "X_test = X_test.astype('float32') / 255.0\n",
        "y_train = to_categorical(y_train, 10)\n",
        "y_test = to_categorical(y_test, 10)"
      ]
    },
    {
      "cell_type": "code",
      "execution_count": null,
      "metadata": {
        "id": "vXtQ1xyCU4Fs"
      },
      "outputs": [],
      "source": [
        "# Create a VGG19 model\n",
        "base_model = VGG19(include_top=False, weights='imagenet', input_shape=(32, 32, 3))\n",
        "model1= Sequential()\n",
        "model1.add(base_model)\n",
        "model1.add(Flatten())\n",
        "model1.add(Dense(256, activation='relu'))\n",
        "model1.add(Dense(10, activation='softmax'))"
      ]
    },
    {
      "cell_type": "code",
      "execution_count": null,
      "metadata": {
        "id": "FdsU1N_qAQUV"
      },
      "outputs": [],
      "source": [
        "# Compile the model\n",
        "model1.compile(loss='categorical_crossentropy', optimizer='adam', metrics=['accuracy'])"
      ]
    },
    {
      "cell_type": "code",
      "execution_count": null,
      "metadata": {
        "colab": {
          "background_save": true,
          "base_uri": "https://localhost:8080/"
        },
        "id": "ybMt-RJwAQcL",
        "outputId": "5c89477b-1257-470e-82f5-e6333df2367c"
      },
      "outputs": [
        {
          "name": "stdout",
          "output_type": "stream",
          "text": [
            "Epoch 1/5\n",
            "704/704 [==============================] - 6782s 10s/step - loss: 1.9107 - accuracy: 0.2158 - val_loss: 1.7768 - val_accuracy: 0.2814\n",
            "Epoch 2/5\n",
            "301/704 [===========>..................] - ETA: 1:03:13 - loss: 1.6413 - accuracy: 0.3290"
          ]
        }
      ],
      "source": [
        "# Train the model\n",
        "model1.fit(X_train, y_train, batch_size=64, epochs=5\n",
        "           , validation_split=0.1)"
      ]
    },
    {
      "cell_type": "code",
      "execution_count": null,
      "metadata": {
        "id": "b_isFg0XAQd1"
      },
      "outputs": [],
      "source": []
    },
    {
      "cell_type": "code",
      "execution_count": null,
      "metadata": {
        "id": "1x-KC7BDAQhr"
      },
      "outputs": [],
      "source": []
    },
    {
      "cell_type": "code",
      "execution_count": null,
      "metadata": {
        "id": "1n5GqD4ZU4JG"
      },
      "outputs": [],
      "source": []
    }
  ],
  "metadata": {
    "colab": {
      "provenance": [],
      "authorship_tag": "ABX9TyOyJGjIwYoJFtOIFMmPL02v",
      "include_colab_link": true
    },
    "kernelspec": {
      "display_name": "Python 3",
      "name": "python3"
    },
    "language_info": {
      "name": "python"
    }
  },
  "nbformat": 4,
  "nbformat_minor": 0
}