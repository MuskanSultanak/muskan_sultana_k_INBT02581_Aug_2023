{
  "cells": [
    {
      "cell_type": "markdown",
      "metadata": {
        "id": "view-in-github",
        "colab_type": "text"
      },
      "source": [
        "<a href=\"https://colab.research.google.com/github/MuskanSultanak/muskan_sultana_k_INBT02581_Aug_2023/blob/main/cifar_10.ipynb\" target=\"_parent\"><img src=\"https://colab.research.google.com/assets/colab-badge.svg\" alt=\"Open In Colab\"/></a>"
      ]
    },
    {
      "cell_type": "markdown",
      "metadata": {
        "id": "oCbQ2EjODwe7"
      },
      "source": [
        "# **CNN MODEL IMPLENTATION ON CIFAR-10 DATASET**"
      ]
    },
    {
      "cell_type": "markdown",
      "metadata": {
        "id": "v6hQ7CNsD7a6"
      },
      "source": [
        "# **IMPORTING LIBRARIES**"
      ]
    },
    {
      "cell_type": "code",
      "execution_count": null,
      "metadata": {
        "id": "sVr7nsFaBQ6u"
      },
      "outputs": [],
      "source": [
        "import numpy as np\n",
        "import pandas as pd\n",
        "import matplotlib.pyplot as plt\n",
        "import tensorflow as tf\n",
        "from keras.datasets import cifar10\n",
        "from keras.models import Sequential\n",
        "from keras.layers import Conv2D, MaxPooling2D, Flatten, Dense, Dropout\n",
        "from tensorflow.keras.utils import to_categorical\n",
        "from keras.applications import VGG19\n",
        "from keras.optimizers import Adam\n",
        "from sklearn.metrics import  confusion_matrix,classification_report\n"
      ]
    },
    {
      "cell_type": "code",
      "execution_count": null,
      "metadata": {
        "colab": {
          "base_uri": "https://localhost:8080/"
        },
        "id": "vR1IZf-nBQ37",
        "outputId": "15202b15-3833-4570-bc0f-a6f01becb4e5"
      },
      "outputs": [
        {
          "output_type": "stream",
          "name": "stdout",
          "text": [
            "Downloading data from https://www.cs.toronto.edu/~kriz/cifar-10-python.tar.gz\n",
            "170498071/170498071 [==============================] - 2s 0us/step\n"
          ]
        }
      ],
      "source": [
        "from tensorflow.keras.datasets import cifar10\n",
        "(X_train, y_train), (X_test, y_test) = cifar10.load_data()"
      ]
    },
    {
      "cell_type": "markdown",
      "metadata": {
        "id": "SHOLQZL1EMCi"
      },
      "source": [
        "# **SPLITTING OF DATASET**"
      ]
    },
    {
      "cell_type": "code",
      "execution_count": null,
      "metadata": {
        "id": "tBgYlCPEBQ1L"
      },
      "outputs": [],
      "source": [
        "X_train = X_train / 255.0\n",
        "X_test = X_test / 255.0\n",
        "\n",
        "y_train = to_categorical(y_train, num_classes=10)\n",
        "y_test = to_categorical(y_test, num_classes=10)"
      ]
    },
    {
      "cell_type": "code",
      "execution_count": null,
      "metadata": {
        "colab": {
          "base_uri": "https://localhost:8080/"
        },
        "id": "7J83X7f9BQxT",
        "outputId": "ffaf0c06-78ed-46cf-da4f-ce53302850ee"
      },
      "outputs": [
        {
          "output_type": "stream",
          "name": "stdout",
          "text": [
            "(50000, 32, 32, 3)\n",
            "(40000, 32, 32, 3)\n",
            "(10000, 32, 32, 3)\n"
          ]
        }
      ],
      "source": [
        "print(X_train.shape)\n",
        "X_train_split = X_train[:40000]\n",
        "y_train_split = y_train[:40000]\n",
        "\n",
        "X_val = X_train[40000:]\n",
        "y_val = y_train[40000:]\n",
        "print(X_train_split.shape)\n",
        "print(X_val.shape)"
      ]
    },
    {
      "cell_type": "markdown",
      "metadata": {
        "id": "UvxHYufMES1u"
      },
      "source": [
        "# **IMPLEMENTING VGG19 MODEL**"
      ]
    },
    {
      "cell_type": "code",
      "execution_count": null,
      "metadata": {
        "id": "DUn23QkiBQql",
        "colab": {
          "base_uri": "https://localhost:8080/",
          "height": 193
        },
        "outputId": "dc50ddae-c46c-4688-a7bb-615214b3e733"
      },
      "outputs": [
        {
          "output_type": "error",
          "ename": "NameError",
          "evalue": "ignored",
          "traceback": [
            "\u001b[0;31m---------------------------------------------------------------------------\u001b[0m",
            "\u001b[0;31mNameError\u001b[0m                                 Traceback (most recent call last)",
            "\u001b[0;32m<ipython-input-7-07b0fefa298e>\u001b[0m in \u001b[0;36m<cell line: 1>\u001b[0;34m()\u001b[0m\n\u001b[0;32m----> 1\u001b[0;31m \u001b[0;32mfor\u001b[0m \u001b[0mlayer\u001b[0m \u001b[0;32min\u001b[0m \u001b[0mbase_model\u001b[0m\u001b[0;34m.\u001b[0m\u001b[0mlayers\u001b[0m\u001b[0;34m:\u001b[0m\u001b[0;34m\u001b[0m\u001b[0;34m\u001b[0m\u001b[0m\n\u001b[0m\u001b[1;32m      2\u001b[0m     \u001b[0mlayer\u001b[0m\u001b[0;34m.\u001b[0m\u001b[0mtrainable\u001b[0m \u001b[0;34m=\u001b[0m \u001b[0;32mFalse\u001b[0m\u001b[0;34m\u001b[0m\u001b[0;34m\u001b[0m\u001b[0m\n",
            "\u001b[0;31mNameError\u001b[0m: name 'base_model' is not defined"
          ]
        }
      ],
      "source": [
        "for layer in base_model.layers:\n",
        "    layer.trainable = False"
      ]
    },
    {
      "cell_type": "code",
      "execution_count": null,
      "metadata": {
        "id": "R3a5FVrtDm5l",
        "colab": {
          "base_uri": "https://localhost:8080/"
        },
        "outputId": "5d75d57d-bd83-4d1b-9fca-f20db6101dc3"
      },
      "outputs": [
        {
          "output_type": "stream",
          "name": "stdout",
          "text": [
            "Downloading data from https://storage.googleapis.com/tensorflow/keras-applications/vgg19/vgg19_weights_tf_dim_ordering_tf_kernels_notop.h5\n",
            "80134624/80134624 [==============================] - 0s 0us/step\n"
          ]
        }
      ],
      "source": [
        "base_model = VGG19(weights='imagenet', include_top=False, input_shape=(32, 32, 3))"
      ]
    },
    {
      "cell_type": "markdown",
      "metadata": {
        "id": "HqQzgqSpEbO2"
      },
      "source": [
        "# **CREATING CNN MODEL**"
      ]
    },
    {
      "cell_type": "code",
      "execution_count": null,
      "metadata": {
        "id": "Sp3jaS7BBQpG"
      },
      "outputs": [],
      "source": [
        "model = Sequential()\n",
        "model.add(base_model)\n",
        "model.add(Flatten())\n",
        "model.add(Dense(256, activation='relu'))\n",
        "model.add(Dropout(0.5))\n",
        "model.add(Dense(10, activation='softmax'))"
      ]
    },
    {
      "cell_type": "code",
      "execution_count": null,
      "metadata": {
        "id": "_gCeDgu-BQla"
      },
      "outputs": [],
      "source": [
        "lr=0.001\n",
        "model.compile(optimizer=Adam(learning_rate=lr), loss='categorical_crossentropy', metrics=['accuracy'])"
      ]
    },
    {
      "cell_type": "code",
      "execution_count": null,
      "metadata": {
        "colab": {
          "base_uri": "https://localhost:8080/"
        },
        "id": "jaTiffyOBQj_",
        "outputId": "a3d790be-957f-46e2-8fe8-99be84de58f8"
      },
      "outputs": [
        {
          "output_type": "stream",
          "name": "stdout",
          "text": [
            "Epoch 1/3\n",
            "313/313 [==============================] - 3208s 10s/step - loss: 2.3547 - accuracy: 0.0979 - val_loss: 2.3028 - val_accuracy: 0.0980\n",
            "Epoch 2/3\n",
            "313/313 [==============================] - 3186s 10s/step - loss: 2.3027 - accuracy: 0.1006 - val_loss: 2.3027 - val_accuracy: 0.0952\n",
            "Epoch 3/3\n",
            "313/313 [==============================] - 3185s 10s/step - loss: 2.3027 - accuracy: 0.0981 - val_loss: 2.3028 - val_accuracy: 0.0952\n"
          ]
        }
      ],
      "source": [
        " history=model.fit(X_train, y_train, batch_size=128, epochs=3, validation_split=0.2)"
      ]
    },
    {
      "cell_type": "markdown",
      "metadata": {
        "id": "y4ZTTGBxEhEc"
      },
      "source": [
        "# **ACCURACY**"
      ]
    },
    {
      "cell_type": "code",
      "execution_count": null,
      "metadata": {
        "id": "NY0NV8orBQfp",
        "colab": {
          "base_uri": "https://localhost:8080/"
        },
        "outputId": "28f22329-a46a-45c5-a986-ee1a2af2961d"
      },
      "outputs": [
        {
          "output_type": "stream",
          "name": "stdout",
          "text": [
            "313/313 [==============================] - 111s 355ms/step - loss: 2.3026 - accuracy: 0.1000\n",
            "Test Accuracy: [2.3026351928710938, 0.10000000149011612, 2.3026351928710938, 0.10000000149011612, 2.3026351928710938, 0.10000000149011612, 2.3026351928710938, 0.10000000149011612, 2.3026351928710938, 0.10000000149011612, 2.3026351928710938, 0.10000000149011612, 2.3026351928710938, 0.10000000149011612, 2.3026351928710938, 0.10000000149011612, 2.3026351928710938, 0.10000000149011612, 2.3026351928710938, 0.10000000149011612, 2.3026351928710938, 0.10000000149011612, 2.3026351928710938, 0.10000000149011612, 2.3026351928710938, 0.10000000149011612, 2.3026351928710938, 0.10000000149011612, 2.3026351928710938, 0.10000000149011612, 2.3026351928710938, 0.10000000149011612, 2.3026351928710938, 0.10000000149011612, 2.3026351928710938, 0.10000000149011612, 2.3026351928710938, 0.10000000149011612, 2.3026351928710938, 0.10000000149011612, 2.3026351928710938, 0.10000000149011612, 2.3026351928710938, 0.10000000149011612, 2.3026351928710938, 0.10000000149011612, 2.3026351928710938, 0.10000000149011612, 2.3026351928710938, 0.10000000149011612, 2.3026351928710938, 0.10000000149011612, 2.3026351928710938, 0.10000000149011612, 2.3026351928710938, 0.10000000149011612, 2.3026351928710938, 0.10000000149011612, 2.3026351928710938, 0.10000000149011612, 2.3026351928710938, 0.10000000149011612, 2.3026351928710938, 0.10000000149011612, 2.3026351928710938, 0.10000000149011612, 2.3026351928710938, 0.10000000149011612, 2.3026351928710938, 0.10000000149011612, 2.3026351928710938, 0.10000000149011612, 2.3026351928710938, 0.10000000149011612, 2.3026351928710938, 0.10000000149011612, 2.3026351928710938, 0.10000000149011612, 2.3026351928710938, 0.10000000149011612, 2.3026351928710938, 0.10000000149011612, 2.3026351928710938, 0.10000000149011612, 2.3026351928710938, 0.10000000149011612, 2.3026351928710938, 0.10000000149011612, 2.3026351928710938, 0.10000000149011612, 2.3026351928710938, 0.10000000149011612, 2.3026351928710938, 0.10000000149011612, 2.3026351928710938, 0.10000000149011612, 2.3026351928710938, 0.10000000149011612, 2.3026351928710938, 0.10000000149011612, 2.3026351928710938, 0.10000000149011612, 2.3026351928710938, 0.10000000149011612, 2.3026351928710938, 0.10000000149011612, 2.3026351928710938, 0.10000000149011612, 2.3026351928710938, 0.10000000149011612, 2.3026351928710938, 0.10000000149011612, 2.3026351928710938, 0.10000000149011612, 2.3026351928710938, 0.10000000149011612, 2.3026351928710938, 0.10000000149011612, 2.3026351928710938, 0.10000000149011612, 2.3026351928710938, 0.10000000149011612, 2.3026351928710938, 0.10000000149011612, 2.3026351928710938, 0.10000000149011612, 2.3026351928710938, 0.10000000149011612, 2.3026351928710938, 0.10000000149011612, 2.3026351928710938, 0.10000000149011612, 2.3026351928710938, 0.10000000149011612, 2.3026351928710938, 0.10000000149011612, 2.3026351928710938, 0.10000000149011612, 2.3026351928710938, 0.10000000149011612, 2.3026351928710938, 0.10000000149011612, 2.3026351928710938, 0.10000000149011612, 2.3026351928710938, 0.10000000149011612, 2.3026351928710938, 0.10000000149011612, 2.3026351928710938, 0.10000000149011612, 2.3026351928710938, 0.10000000149011612, 2.3026351928710938, 0.10000000149011612, 2.3026351928710938, 0.10000000149011612, 2.3026351928710938, 0.10000000149011612, 2.3026351928710938, 0.10000000149011612, 2.3026351928710938, 0.10000000149011612, 2.3026351928710938, 0.10000000149011612, 2.3026351928710938, 0.10000000149011612, 2.3026351928710938, 0.10000000149011612, 2.3026351928710938, 0.10000000149011612, 2.3026351928710938, 0.10000000149011612, 2.3026351928710938, 0.10000000149011612, 2.3026351928710938, 0.10000000149011612, 2.3026351928710938, 0.10000000149011612, 2.3026351928710938, 0.10000000149011612, 2.3026351928710938, 0.10000000149011612, 2.3026351928710938, 0.10000000149011612, 2.3026351928710938, 0.10000000149011612, 2.3026351928710938, 0.10000000149011612, 2.3026351928710938, 0.10000000149011612, 2.3026351928710938, 0.10000000149011612, 2.3026351928710938, 0.10000000149011612, 2.3026351928710938, 0.10000000149011612, 2.3026351928710938, 0.10000000149011612, 2.3026351928710938, 0.10000000149011612]\n"
          ]
        }
      ],
      "source": [
        "accuracy = model.evaluate(X_test, y_test)\n",
        "print(f\"Test Accuracy: {accuracy*100}\")"
      ]
    },
    {
      "cell_type": "code",
      "execution_count": null,
      "metadata": {
        "id": "XDkz78EKBQea",
        "colab": {
          "base_uri": "https://localhost:8080/",
          "height": 472
        },
        "outputId": "caadbc00-a5b4-4643-ffb3-60624f755308"
      },
      "outputs": [
        {
          "output_type": "display_data",
          "data": {
            "text/plain": [
              "<Figure size 640x480 with 1 Axes>"
            ],
            "image/png": "[encoded data removed]"
          },
          "metadata": {}
        }
      ],
      "source": [
        "plt.plot(history.history['accuracy'])\n",
        "plt.plot(history.history['val_accuracy'])\n",
        "plt.title('Model Accuracy')\n",
        "plt.xlabel('Epoch')\n",
        "\n",
        "\n",
        "plt.ylabel('Accuracy')\n",
        "plt.legend(['Train', 'Validation'], loc='upper left')\n",
        "plt.show()"
      ]
    },
    {
      "cell_type": "code",
      "execution_count": null,
      "metadata": {
        "id": "mawuagBCBQZL",
        "colab": {
          "base_uri": "https://localhost:8080/"
        },
        "outputId": "dd51635b-85cf-48d2-9931-f5d2c4b1e78c"
      },
      "outputs": [
        {
          "output_type": "stream",
          "name": "stdout",
          "text": [
            "313/313 [==============================] - 101s 320ms/step - loss: 1.4770 - accuracy: 0.4726 - val_loss: 1.1848 - val_accuracy: 0.5897\n"
          ]
        }
      ],
      "source": [
        "model = Sequential()\n",
        "model.add(Conv2D(32, (3, 3), activation='relu', input_shape=(32, 32, 3)))\n",
        "model.add(Conv2D(64, (3, 3), activation='relu'))\n",
        "model.add(MaxPooling2D(pool_size=(2, 2)))\n",
        "model.add(Dropout(0.25))\n",
        "model.add(Flatten())\n",
        "model.add(Dense(128, activation='relu'))\n",
        "model.add(Dense(10, activation='softmax'))\n",
        "model.compile(optimizer='adam', loss='categorical_crossentropy', metrics=['accuracy'])\n",
        "history=model.fit(X_train, y_train, batch_size=128, epochs=1, validation_split=0.2)"
      ]
    },
    {
      "cell_type": "code",
      "execution_count": null,
      "metadata": {
        "id": "VGMM6badBQX2",
        "colab": {
          "base_uri": "https://localhost:8080/"
        },
        "outputId": "0665dd32-025a-4c6a-99aa-8b937413516e"
      },
      "outputs": [
        {
          "output_type": "stream",
          "name": "stdout",
          "text": [
            "313/313 [==============================] - 7s 21ms/step - loss: 1.1726 - accuracy: 0.5924\n",
            "CNN Model - Test Loss: 1.1726\n",
            "CNN Model - Test Accuracy: 59.24%\n"
          ]
        }
      ],
      "source": [
        "cnn_loss, cnn_accuracy = model.evaluate(X_test, y_test)\n",
        "print(f\"CNN Model - Test Loss: {cnn_loss:.4f}\")\n",
        "print(f\"CNN Model - Test Accuracy: {cnn_accuracy*100:.2f}%\")"
      ]
    },
    {
      "cell_type": "code",
      "execution_count": null,
      "metadata": {
        "id": "8cwFr8-3BQTu"
      },
      "outputs": [],
      "source": [
        "base_model = VGG19(weights='imagenet', include_top=False, input_shape=(32, 32, 3))\n",
        "for layer in base_model.layers:\n",
        "    layer.trainable = False"
      ]
    },
    {
      "cell_type": "markdown",
      "metadata": {
        "id": "0wxs-qAOEntp"
      },
      "source": [
        "# **TRANSFER LEARNING**"
      ]
    },
    {
      "cell_type": "code",
      "execution_count": null,
      "metadata": {
        "id": "oxWUfo29BQSb",
        "colab": {
          "base_uri": "https://localhost:8080/"
        },
        "outputId": "5ae155ec-0b41-42f7-8c40-ac839b99fec8"
      },
      "outputs": [
        {
          "output_type": "stream",
          "name": "stdout",
          "text": [
            "313/313 [==============================] - 485s 2s/step - loss: 1.6306 - accuracy: 0.4263 - val_loss: 1.3708 - val_accuracy: 0.5162\n"
          ]
        },
        {
          "output_type": "execute_result",
          "data": {
            "text/plain": [
              "<keras.callbacks.History at 0x79dc4aa6caf0>"
            ]
          },
          "metadata": {},
          "execution_count": 18
        }
      ],
      "source": [
        "transfer_model = Sequential()\n",
        "transfer_model.add(base_model)\n",
        "transfer_model.add(Flatten())\n",
        "transfer_model.add(Dense(256, activation='relu'))\n",
        "transfer_model.add(Dropout(0.5))\n",
        "transfer_model.add(Dense(10, activation='softmax'))\n",
        "lr=0.001\n",
        "transfer_model.compile(optimizer=Adam(learning_rate=lr), loss='categorical_crossentropy', metrics=['accuracy'])\n",
        "transfer_model.fit(X_train, y_train, batch_size=128, epochs=1, validation_split=0.2)"
      ]
    },
    {
      "cell_type": "code",
      "execution_count": null,
      "metadata": {
        "id": "-k6bZfqVBQOH",
        "colab": {
          "base_uri": "https://localhost:8080/"
        },
        "outputId": "c5382f29-4f6d-4484-e896-5b3a6a1ed5b1"
      },
      "outputs": [
        {
          "output_type": "stream",
          "name": "stdout",
          "text": [
            "313/313 [==============================] - 100s 320ms/step - loss: 1.3779 - accuracy: 0.5227\n",
            "Transfer Learning Model - Test Loss: 1.3779\n",
            "Transfer Learning Model - Test Accuracy: 52.27%\n"
          ]
        }
      ],
      "source": [
        "transfer_loss, transfer_accuracy = transfer_model.evaluate(X_test, y_test)\n",
        "print(f\"Transfer Learning Model - Test Loss: {transfer_loss:.4f}\")\n",
        "print(f\"Transfer Learning Model - Test Accuracy: {transfer_accuracy*100:.2f}%\")"
      ]
    },
    {
      "cell_type": "code",
      "execution_count": null,
      "metadata": {
        "id": "h1lfFcM4CgL4",
        "colab": {
          "base_uri": "https://localhost:8080/"
        },
        "outputId": "f6b728f0-39c6-4290-a703-1a1d38ee98a8"
      },
      "outputs": [
        {
          "output_type": "stream",
          "name": "stdout",
          "text": [
            "313/313 [==============================] - 99s 317ms/step\n"
          ]
        }
      ],
      "source": [
        "transfer_pred = transfer_model.predict(X_test)\n",
        "transfer_labels = np.argmax(y_test, axis=1)\n",
        "transfer_pred = np.argmax(transfer_pred, axis=1)"
      ]
    },
    {
      "cell_type": "code",
      "execution_count": null,
      "metadata": {
        "id": "oYUItcZPCgOw",
        "colab": {
          "base_uri": "https://localhost:8080/"
        },
        "outputId": "7837acaf-8be4-435e-ff21-aa7fdb8d2fd7"
      },
      "outputs": [
        {
          "output_type": "stream",
          "name": "stdout",
          "text": [
            "Transfer Learning Model Evaluation Metrics:\n",
            "              precision    recall  f1-score   support\n",
            "\n",
            "           0       0.66      0.49      0.57      1000\n",
            "           1       0.50      0.61      0.55      1000\n",
            "           2       0.44      0.34      0.39      1000\n",
            "           3       0.38      0.42      0.40      1000\n",
            "           4       0.55      0.46      0.50      1000\n",
            "           5       0.46      0.49      0.48      1000\n",
            "           6       0.57      0.60      0.59      1000\n",
            "           7       0.58      0.55      0.56      1000\n",
            "           8       0.61      0.66      0.63      1000\n",
            "           9       0.51      0.61      0.56      1000\n",
            "\n",
            "    accuracy                           0.52     10000\n",
            "   macro avg       0.53      0.52      0.52     10000\n",
            "weighted avg       0.53      0.52      0.52     10000\n",
            "\n",
            "Transfer Learning Model Confusion Matrix:\n",
            "[[494  54  87  35  12  12  11  31 190  74]\n",
            " [ 21 607  18  53  10  31  19  22  38 181]\n",
            " [ 75  55 345 105  94 117  96  44  43  26]\n",
            " [ 20  68  54 416  40 165 107  48  22  60]\n",
            " [ 10  24  70  88 459  55 105 122  37  30]\n",
            " [  8  53  52 184  58 492  41  67   3  42]\n",
            " [  9  75  65  83  68  62 599   7   7  25]\n",
            " [  9  29  61  60  63 101  38 546  22  71]\n",
            " [ 76  98  20  25  14   7   7  14 657  82]\n",
            " [ 26 158   8  38  13  28  21  40  56 612]]\n"
          ]
        }
      ],
      "source": [
        "transfer_report = classification_report(transfer_labels, transfer_pred)\n",
        "transfer_confusion = confusion_matrix(transfer_labels, transfer_pred)\n",
        "print(\"Transfer Learning Model Evaluation Metrics:\")\n",
        "print(transfer_report)\n",
        "print(\"Transfer Learning Model Confusion Matrix:\")\n",
        "print(transfer_confusion)"
      ]
    },
    {
      "cell_type": "code",
      "execution_count": null,
      "metadata": {
        "id": "lmASn-IJCgRf",
        "colab": {
          "base_uri": "https://localhost:8080/"
        },
        "outputId": "b998e12d-e035-41ea-bea1-732b7611f9b0"
      },
      "outputs": [
        {
          "output_type": "stream",
          "name": "stdout",
          "text": [
            "313/313 [==============================] - 7s 21ms/step\n"
          ]
        }
      ],
      "source": [
        "cnn_pred = model.predict(X_test)\n",
        "cnn_labels = np.argmax(y_test, axis=1)\n",
        "cnn_pred = np.argmax(cnn_pred, axis=1)"
      ]
    },
    {
      "cell_type": "code",
      "execution_count": null,
      "metadata": {
        "id": "GkA7Zf1cCgUD",
        "colab": {
          "base_uri": "https://localhost:8080/"
        },
        "outputId": "b5ceb7ad-783b-4935-b9a0-b35bab6bc78c"
      },
      "outputs": [
        {
          "output_type": "stream",
          "name": "stdout",
          "text": [
            "CNN Model Evaluation Metrics:\n",
            "              precision    recall  f1-score   support\n",
            "\n",
            "           0       0.61      0.72      0.66      1000\n",
            "           1       0.72      0.72      0.72      1000\n",
            "           2       0.53      0.37      0.43      1000\n",
            "           3       0.50      0.26      0.34      1000\n",
            "           4       0.48      0.63      0.55      1000\n",
            "           5       0.42      0.67      0.51      1000\n",
            "           6       0.74      0.58      0.65      1000\n",
            "           7       0.69      0.60      0.64      1000\n",
            "           8       0.71      0.68      0.70      1000\n",
            "           9       0.63      0.70      0.66      1000\n",
            "\n",
            "    accuracy                           0.59     10000\n",
            "   macro avg       0.60      0.59      0.59     10000\n",
            "weighted avg       0.60      0.59      0.59     10000\n",
            "\n",
            "CNN Model Confusion Matrix:\n",
            "[[721  26  54  10  23  15   9   4  88  50]\n",
            " [ 44 720  12   3   4   8   6  10  54 139]\n",
            " [ 97  16 368  39 185 158  50  37  21  29]\n",
            " [ 34  12  65 261 119 346  63  38  18  44]\n",
            " [ 39   7  62  27 627 111  37  70  11   9]\n",
            " [ 20   3  41  90  79 665  17  55  16  14]\n",
            " [ 13  25  53  44 147  80 576  27  10  25]\n",
            " [ 27   6  15  30  92 163   5 604   6  52]\n",
            " [136  67  21   9  10  18   3   8 681  47]\n",
            " [ 57 114   8   6  11  23  10  22  48 701]]\n"
          ]
        }
      ],
      "source": [
        "cnn_report = classification_report(cnn_labels, cnn_pred)\n",
        "cnn_confusion = confusion_matrix(cnn_labels, cnn_pred)\n",
        "print(\"CNN Model Evaluation Metrics:\")\n",
        "print(cnn_report)\n",
        "print(\"CNN Model Confusion Matrix:\")\n",
        "print(cnn_confusion)"
      ]
    },
    {
      "cell_type": "markdown",
      "source": [
        "# **CONFUSION MATRIX FOR CNN MODEL**"
      ],
      "metadata": {
        "id": "dDyWBauqkSQJ"
      }
    },
    {
      "cell_type": "code",
      "execution_count": null,
      "metadata": {
        "id": "gojV0EotCgWb",
        "colab": {
          "base_uri": "https://localhost:8080/",
          "height": 564
        },
        "outputId": "79b56818-6fb9-45a8-fa1b-65fd81dd41d9"
      },
      "outputs": [
        {
          "output_type": "display_data",
          "data": {
            "text/plain": [
              "<Figure size 800x600 with 2 Axes>"
            ],
            "image/png": "[encoded data removed]"
          },
          "metadata": {}
        }
      ],
      "source": [
        "plt.figure(figsize=(8, 6))\n",
        "plt.imshow(cnn_confusion, cmap='inferno')\n",
        "plt.title('CNN Model Confusion Matrix')\n",
        "plt.colorbar()\n",
        "plt.xlabel('Predicted Label')\n",
        "plt.ylabel('True Label')\n",
        "plt.xticks(np.arange(10))\n",
        "plt.yticks(np.arange(10))\n",
        "plt.show()"
      ]
    },
    {
      "cell_type": "markdown",
      "source": [
        "# **CONFUSION MATRIX FOR TRANSFER LEARNING MODEL**"
      ],
      "metadata": {
        "id": "cF3SnLDSkaQ_"
      }
    },
    {
      "cell_type": "code",
      "execution_count": null,
      "metadata": {
        "id": "gt2s3c5WCgYy",
        "colab": {
          "base_uri": "https://localhost:8080/",
          "height": 564
        },
        "outputId": "22503346-b28a-4564-a29f-8873a1fca2ff"
      },
      "outputs": [
        {
          "output_type": "display_data",
          "data": {
            "text/plain": [
              "<Figure size 800x600 with 2 Axes>"
            ],
            "image/png": "[encoded data removed]"
          },
          "metadata": {}
        }
      ],
      "source": [
        "plt.figure(figsize=(8, 6))\n",
        "plt.imshow(transfer_confusion, cmap='inferno')\n",
        "plt.title('Transfer Learning Model Confusion Matrix')\n",
        "plt.colorbar()\n",
        "plt.xlabel('Predicted Label')\n",
        "plt.ylabel('True Label')\n",
        "plt.xticks(np.arange(10))\n",
        "plt.yticks(np.arange(10))\n",
        "plt.show()"
      ]
    },
    {
      "cell_type": "code",
      "execution_count": null,
      "metadata": {
        "id": "Xf9qgzT6BQM9"
      },
      "outputs": [],
      "source": [
        "metrics_table = pd.DataFrame({\n",
        "    'Model': ['CNN Model', 'Transfer Learning Model'],\n",
        "    'Test Loss': [cnn_loss, transfer_loss],\n",
        "    'Test Accuracy': [cnn_accuracy, transfer_accuracy]\n",
        "})"
      ]
    },
    {
      "cell_type": "markdown",
      "metadata": {
        "id": "K_PObcswEzS-"
      },
      "source": [
        "# **METRICS EVALUATION**"
      ]
    },
    {
      "cell_type": "code",
      "execution_count": null,
      "metadata": {
        "id": "3DXSKkfaC8sU",
        "colab": {
          "base_uri": "https://localhost:8080/"
        },
        "outputId": "7e04efb8-20c5-41d3-d8d1-c627cc5c3089"
      },
      "outputs": [
        {
          "output_type": "stream",
          "name": "stdout",
          "text": [
            "Evaluation Metrics:\n",
            "                     Model  Test Loss  Test Accuracy\n",
            "0                CNN Model   1.172640         0.5924\n",
            "1  Transfer Learning Model   1.377926         0.5227\n"
          ]
        }
      ],
      "source": [
        "print(\"Evaluation Metrics:\")\n",
        "print(metrics_table)"
      ]
    },
    {
      "cell_type": "code",
      "execution_count": null,
      "metadata": {
        "id": "0s4hhmGJC8uN",
        "colab": {
          "base_uri": "https://localhost:8080/"
        },
        "outputId": "0f7c6a20-003a-4b4e-f303-1b0465ee6e8f"
      },
      "outputs": [
        {
          "output_type": "stream",
          "name": "stdout",
          "text": [
            "1563/1563 [==============================] - 31s 20ms/step - loss: 1.1278 - accuracy: 0.6087\n",
            "CNN Model - Training Loss: 1.1278\n",
            "CNN Model - Training Accuracy: 60.87%\n"
          ]
        }
      ],
      "source": [
        "cnn_train_loss, cnn_train_acc = model.evaluate(X_train, y_train)\n",
        "print(f\"CNN Model - Training Loss: {cnn_train_loss:.4f}\")\n",
        "print(f\"CNN Model - Training Accuracy: {cnn_train_acc*100:.2f}%\")"
      ]
    },
    {
      "cell_type": "code",
      "execution_count": null,
      "metadata": {
        "id": "y5rqlhAwC8xs",
        "colab": {
          "base_uri": "https://localhost:8080/"
        },
        "outputId": "e936e4ae-6117-4efd-c60a-9be1a99c485a"
      },
      "outputs": [
        {
          "output_type": "stream",
          "name": "stdout",
          "text": [
            "1563/1563 [==============================] - 506s 324ms/step - loss: 1.3616 - accuracy: 0.5259\n",
            "Transfer Learning Model - Training Loss: 1.3616\n",
            "Transfer Learning Model - Training Accuracy: 52.59%\n"
          ]
        }
      ],
      "source": [
        "transfer_train_loss, transfer_train_acc = transfer_model.evaluate(X_train, y_train)\n",
        "print(f\"Transfer Learning Model - Training Loss: {transfer_train_loss:.4f}\")\n",
        "print(f\"Transfer Learning Model - Training Accuracy: {transfer_train_acc*100:.2f}%\")"
      ]
    },
    {
      "cell_type": "markdown",
      "metadata": {
        "id": "iFjjhJJVE6L3"
      },
      "source": [
        "# **PERFORMANCE OF MODEL**"
      ]
    },
    {
      "cell_type": "code",
      "execution_count": null,
      "metadata": {
        "id": "aSw6X2yTC8zr",
        "colab": {
          "base_uri": "https://localhost:8080/"
        },
        "outputId": "d9608214-fede-486d-ba00-f97376c988b7"
      },
      "outputs": [
        {
          "output_type": "stream",
          "name": "stdout",
          "text": [
            "Model Performance on Training and Testing Sets:\n",
            "                     Model  Training Accuracy  Test Accuracy\n",
            "0                CNN Model            0.60874         0.5924\n",
            "1  Transfer Learning Model            0.52586         0.5227\n"
          ]
        }
      ],
      "source": [
        "performance_table = pd.DataFrame({\n",
        "    'Model': ['CNN Model', 'Transfer Learning Model'],\n",
        "    'Training Accuracy': [cnn_train_acc, transfer_train_acc],\n",
        "    'Test Accuracy': [cnn_accuracy, transfer_accuracy]\n",
        "})\n",
        "\n",
        "print(\"Model Performance on Training and Testing Sets:\")\n",
        "print(performance_table)"
      ]
    },
    {
      "cell_type": "code",
      "execution_count": null,
      "metadata": {
        "id": "L5xwBrbCC83O"
      },
      "outputs": [],
      "source": []
    },
    {
      "cell_type": "code",
      "execution_count": null,
      "metadata": {
        "id": "Y37edBiJC841"
      },
      "outputs": [],
      "source": []
    }
  ],
  "metadata": {
    "colab": {
      "provenance": [],
      "authorship_tag": "ABX9TyMfcAw1vjU+Qj2gyg7ysyy9",
      "include_colab_link": true
    },
    "kernelspec": {
      "display_name": "Python 3",
      "name": "python3"
    },
    "language_info": {
      "name": "python"
    }
  },
  "nbformat": 4,
  "nbformat_minor": 0
}